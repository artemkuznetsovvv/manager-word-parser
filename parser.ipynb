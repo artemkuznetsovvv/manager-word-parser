{
 "cells": [
  {
   "cell_type": "code",
   "execution_count": 30,
   "id": "6700849b",
   "metadata": {},
   "outputs": [],
   "source": [
    "import pandas as pd\n",
    "\n",
    "from ipymarkup import show_span_ascii_markup as show_markup\n",
    "\n",
    "from yargy import rule, Parser, or_\n",
    "from yargy.predicates import eq, type as type_, gram, normalized\n",
    "from yargy.pipelines import morph_pipeline, caseless_pipeline\n",
    "from yargy.interpretation import fact"
   ]
  },
  {
   "cell_type": "code",
   "execution_count": 31,
   "id": "194bf649",
   "metadata": {},
   "outputs": [],
   "source": [
    "df = pd.read_csv('../test_data.csv')\n",
    "df.text = df.text.str.lower()"
   ]
  },
  {
   "cell_type": "markdown",
   "id": "c3868592",
   "metadata": {},
   "source": [
    "Нам необходимы реплики приветствия и прощания, поэтому будем рассматривать первые и последние 5 реплик менеджера"
   ]
  },
  {
   "cell_type": "code",
   "execution_count": 32,
   "id": "cd9cf10d",
   "metadata": {},
   "outputs": [],
   "source": [
    "# функция для выбора необходимых строк\n",
    "def cut_manager_part(df, number_of_dialogue, border = 5):\n",
    "    dig_num = number_of_dialogue\n",
    "\n",
    "    dlg_df_manager = df[df['role'] == 'manager']\n",
    "    dlg_df_manager = dlg_df_manager[dlg_df_manager['dlg_id'] == dig_num]\n",
    "    dlg_df_manager_cut = pd.concat([dlg_df_manager.iloc[:border],  dlg_df_manager.iloc[-border:]])\n",
    "    return dlg_df_manager_cut['text'].to_list()"
   ]
  },
  {
   "cell_type": "code",
   "execution_count": 33,
   "id": "6596341e",
   "metadata": {},
   "outputs": [],
   "source": [
    "# функция для применения правил описанных с помощью библитеки yargy\n",
    "# к искомому датафрейму. Функция возвращает словарь с парой идентификатор диалога\n",
    "# и выделенной по правилу фразой\n",
    "def df_processor(df, rule, print_text = True):\n",
    "    loc_dict = {}\n",
    "    parser = Parser(rule)\n",
    "    for i in range(len(df['dlg_id'].value_counts())):\n",
    "        if print_text:\n",
    "            print(\"Number of dialogue # \" + str(i))\n",
    "        dlg_list = cut_manager_part(df, i)\n",
    "        for line in dlg_list:\n",
    "            matches = list(parser.findall(line))\n",
    "            if print_text:\n",
    "                spans = [_.span for _ in matches]\n",
    "                show_markup(line, spans)\n",
    "            if matches:            \n",
    "                for match in parser.findall(line):\n",
    "                    loc_dict[i] = [_.value for _ in match.tokens]\n",
    "        if print_text:\n",
    "            print('\\n')\n",
    "            \n",
    "    return loc_dict"
   ]
  },
  {
   "cell_type": "markdown",
   "id": "0f87bfee",
   "metadata": {},
   "source": [
    "# Выделение приветстивия"
   ]
  },
  {
   "cell_type": "code",
   "execution_count": 34,
   "id": "53a471e7",
   "metadata": {},
   "outputs": [
    {
     "name": "stdout",
     "output_type": "stream",
     "text": [
      "Number of dialogue # 0\n",
      "алло здравствуйте\n",
      "     ────────────\n",
      "меня зовут ангелина компания диджитал бизнес звоним вам по поводу \n",
      "продления лицензии а мы с серым у вас скоро срок заканчивается\n",
      "угу ну возможно вы рассмотрите и другие варианты видите это хорошая \n",
      "практика сравнивать\n",
      "угу а на что вы обращаете внимание при выборе\n",
      "что для вас приоритет\n",
      "вот понимаю да но дело в том что в основном да за месяц\n",
      "необходимо обзванивать\n",
      "хорошо я данную информацию тогда зафиксирую передам будем иметь ввиду\n",
      "и вам спасибо большое за обратную связь\n",
      "всего хорошего до свидания\n",
      "\n",
      "\n",
      "Number of dialogue # 1\n",
      "алло здравствуйте\n",
      "     ────────────\n",
      "меня зовут ангелина компания диджитал бизнес звоню вам по поводу \n",
      "продления а мы сели обратила внимание что у вас срок заканчивается\n",
      "а так у вас заканчивается 25 февраля\n",
      "на полгода минимальный\n",
      "а у вас сейчас 8 базовый правильно\n",
      "а куда вам можно на ватсап например\n",
      "давайте тогда почту проверим инфо собачка эра черточка 3 дэ точка ру \n",
      "правильно\n",
      "угу\n",
      "угу да вижу я эту почту хорошо тогда исправлю на эту будем ждать \n",
      "ответа всего хорошего\n",
      "до свидания\n",
      "\n",
      "\n",
      "Number of dialogue # 2\n",
      "алло здравствуйте\n",
      "     ────────────\n",
      "меня зовут ангелина компания диджитал бизнес звоню вам по поводу \n",
      "продления лицензии а мастера мы с вами сотрудничали по видео там\n",
      "а нет я еще не отправляла я решила вам набрать\n",
      "удобно вам сейчас говорить что я вам так рассказала\n",
      "угу хорошо а вы сейчас подскажите по каким критериям выбираете \n",
      "партнера чтобы мы могли подготовить для вас предложение\n",
      "что что\n",
      "а в любое время хорошо тогда я аналитику по этому вопросу напишу а он \n",
      "мне тоже напишет свои окошки а я вам в ватсап\n",
      "напишу что будет да\n",
      "хорошо тогда сейчас вам отправлю и звоните на следующей неделе\n",
      "все хорошо\n",
      "\n",
      "\n",
      "Number of dialogue # 3\n",
      "алло дмитрий добрый день\n",
      "             ───────────\n",
      "добрый меня максим зовут компания китобизнес удобно говорить\n",
      "да дмитрий вот мне моя коллега анастасия подсказала что у вас есть \n",
      "какие то открытые вопросы связанные с техническими особенностями а мы \n",
      "серым вот готов буду его ответить или взять паузу и решите эти вопросы\n",
      " уточните пожалуйста в чем задача состоит\n",
      "угу\n",
      "очень важно я думаю вот например да\n",
      "хорошо\n",
      "давайте давайте так тогда наберем вас\n",
      "а скажите когда удобно так и наберем\n",
      "11 да смогу набрать в 11 наберу вас\n",
      "угу все хорошо да понедельника тогда всего доброго\n",
      "\n",
      "\n",
      "Number of dialogue # 4\n",
      "вот по виду платежи пообщаться помните мы вот с вами обсуждали вас там\n",
      " 1 функционал не очень в нашем продукте подходил вот по промежуточным \n",
      "задачам вот а скажите пожалуйста а сейчас этот вопрос актуален для вас\n",
      "я понял ну мы хотели бы просто предложить такой вариант развития \n",
      "событий в принципе мы\n",
      "готовы будем для вашего клиента это использовать работать вот\n",
      "наверное в рамках недели полторы наверное займет вот но так как мы \n",
      "будем приобретете поэтому если нет каких то других соответственно \n",
      "условия которые мешают вам его приобрести то я вам предлагаю просто \n",
      "предложить это видеть клиенту вот его оплачивать\n",
      "да мы на год принимаем оплату\n",
      "а если про саму форму ну то есть вы получите там ну наверное \n",
      "подтверждение и какая форма обязательства нужно ну то есть что \n",
      "требуется для того чтобы на ну собственно для вас это было приемлемо \n",
      "там я не знаю там письмо какое то там или какая то там еще информация \n",
      "ну то есть вы как скажете давайте так попробуем договориться\n",
      "ну вот\n",
      "давайте\n",
      "все тогда а вас когда вам когда лучше тогда на сайт позвонить в \n",
      "понедельник или во вторник лучше\n",
      "во вторник все ну с вами да тогда до вторника до свидания\n",
      "\n",
      "\n",
      "Number of dialogue # 5\n",
      "да это анастасия\n",
      "угу\n",
      "так да да хорошо смотрите давайте по порядку\n",
      "а вы сейчас загружаете всю базу в эксель а но смотрите получается \n",
      "получается удаляете все само вообще то есть у вас останутся только \n",
      "контакты и все сделки вся история по клиентам и все контакты \n",
      "предыдущий стирутся то есть вам придется\n",
      "угу\n",
      "так дмитрий\n",
      "все записала тогда завтра ждите звонка\n",
      "по поводу виджетов и с ними уже обсудите конкретно продам\n",
      "все я вам высылаю счет и с вами на связи если будут вопросы можете \n",
      "писать на ватсапе\n",
      "ну до свидания хорошего вечера\n",
      "\n",
      "\n"
     ]
    },
    {
     "data": {
      "text/plain": [
       "{0: ['здравствуйте'],\n",
       " 1: ['здравствуйте'],\n",
       " 2: ['здравствуйте'],\n",
       " 3: ['добрый', 'день']}"
      ]
     },
     "execution_count": 34,
     "metadata": {},
     "output_type": "execute_result"
    }
   ],
   "source": [
    "greeting_dict = {}\n",
    "\n",
    "GREETING = morph_pipeline([\n",
    "    'добрый день',\n",
    "    'добрый вечер',\n",
    "    'доброе утро',\n",
    "    'доброго времени',\n",
    "    'здравствуйте'\n",
    "])\n",
    "\n",
    "greeting_dict = df_processor(df, GREETING, print_text=True)\n",
    "\n",
    "greeting_dict"
   ]
  },
  {
   "cell_type": "markdown",
   "id": "48f58a73",
   "metadata": {},
   "source": [
    "# Выделение прощания"
   ]
  },
  {
   "cell_type": "code",
   "execution_count": 35,
   "id": "d687a158",
   "metadata": {},
   "outputs": [
    {
     "data": {
      "text/plain": [
       "{0: ['до', 'свидания'],\n",
       " 1: ['до', 'свидания'],\n",
       " 3: ['всего', 'доброго'],\n",
       " 4: ['до', 'свидания'],\n",
       " 5: ['до', 'свидания']}"
      ]
     },
     "execution_count": 35,
     "metadata": {},
     "output_type": "execute_result"
    }
   ],
   "source": [
    "farewell_dict = {}\n",
    "\n",
    "FAREWELL_1 = morph_pipeline([\n",
    "    'до свидания',\n",
    "    'всего доброго',\n",
    "])\n",
    "FAREWELL_2 = caseless_pipeline([\n",
    "    'всего хорошего'\n",
    "])\n",
    "\n",
    "farewell_dict = df_processor(df, or_(FAREWELL_1, FAREWELL_2), print_text=False)\n",
    "farewell_dict"
   ]
  },
  {
   "cell_type": "markdown",
   "id": "b33ecf6a",
   "metadata": {},
   "source": [
    "# Выделение представления менеджера"
   ]
  },
  {
   "cell_type": "code",
   "execution_count": 36,
   "id": "1707b549",
   "metadata": {},
   "outputs": [
    {
     "data": {
      "text/plain": [
       "{0: ['меня', 'зовут', 'ангелина'],\n",
       " 1: ['меня', 'зовут', 'ангелина'],\n",
       " 2: ['меня', 'зовут', 'ангелина'],\n",
       " 3: ['меня', 'максим', 'зовут'],\n",
       " 5: ['это', 'анастасия']}"
      ]
     },
     "execution_count": 36,
     "metadata": {},
     "output_type": "execute_result"
    }
   ],
   "source": [
    "intro_dict = {}\n",
    "\n",
    "NAME = gram('Name')\n",
    "\n",
    "INTRO_1 = rule(\n",
    "    NAME.optional(),\n",
    "    eq('меня'),\n",
    "    NAME.optional(),\n",
    "    normalized('зовут'),\n",
    "    NAME.optional()\n",
    ")\n",
    "\n",
    "INTRO_2 = rule(\n",
    "    normalized('это'),\n",
    "    NAME\n",
    ")\n",
    "\n",
    "intro_dict = df_processor(df, or_(INTRO_1, INTRO_2), print_text=False)\n",
    "intro_dict"
   ]
  },
  {
   "cell_type": "markdown",
   "id": "6e11b587",
   "metadata": {},
   "source": [
    "# Выделение имени менеджера"
   ]
  },
  {
   "cell_type": "code",
   "execution_count": 37,
   "id": "85133f54",
   "metadata": {},
   "outputs": [
    {
     "data": {
      "text/plain": [
       "{0: ['ангелина'],\n",
       " 1: ['ангелина'],\n",
       " 2: ['ангелина'],\n",
       " 3: ['максим'],\n",
       " 5: ['анастасия']}"
      ]
     },
     "execution_count": 37,
     "metadata": {},
     "output_type": "execute_result"
    }
   ],
   "source": [
    "name_dict = {}\n",
    "parser = Parser(rule(NAME))\n",
    "for i, j in zip(intro_dict.keys(), intro_dict.values()):\n",
    "    line = ' '.join(j)\n",
    "    matches = list(parser.findall(line))\n",
    "    if matches: \n",
    "        for match in parser.findall(line):\n",
    "            name_dict[i] = ([_.value for _ in match.tokens])\n",
    "name_dict"
   ]
  },
  {
   "cell_type": "markdown",
   "id": "0ec43e4f",
   "metadata": {},
   "source": [
    "# Выделение названия компании"
   ]
  },
  {
   "cell_type": "code",
   "execution_count": 38,
   "id": "2a50fd03",
   "metadata": {},
   "outputs": [
    {
     "data": {
      "text/plain": [
       "{0: ['компания', 'диджитал'],\n",
       " 1: ['компания', 'диджитал'],\n",
       " 2: ['компания', 'диджитал'],\n",
       " 3: ['компания', 'китобизнес']}"
      ]
     },
     "execution_count": 38,
     "metadata": {},
     "output_type": "execute_result"
    }
   ],
   "source": [
    "companyname_dict = {}\n",
    "\n",
    "NAME = gram('Name')\n",
    "NOUN = gram('NOUN')\n",
    "COMPANY = rule(\n",
    "        normalized('компания'),\n",
    "        NOUN\n",
    ")\n",
    "companyname_dict = df_processor(df, COMPANY, print_text=False)\n",
    "companyname_dict"
   ]
  },
  {
   "cell_type": "markdown",
   "id": "bae75770",
   "metadata": {},
   "source": [
    "# Объединим результаты в один датафрейм"
   ]
  },
  {
   "cell_type": "code",
   "execution_count": 39,
   "id": "8e86c625",
   "metadata": {},
   "outputs": [],
   "source": [
    "def dicts_to_df(proc_dict, column_name):\n",
    "    value_list = []\n",
    "    for i in list(proc_dict.values()):\n",
    "        value_list.append(' '.join(i))\n",
    "    key_list = list(proc_dict.keys())\n",
    "    result_df = pd.DataFrame(value_list, key_list, columns=[column_name])\n",
    "    return result_df.reset_index()"
   ]
  },
  {
   "cell_type": "code",
   "execution_count": 40,
   "id": "cf9bccc1",
   "metadata": {},
   "outputs": [],
   "source": [
    "dict_list = [name_dict, companyname_dict, intro_dict, greeting_dict, farewell_dict]\n",
    "columns_name = ['manager_name', 'company_name', 'intro', 'greeting', 'farewell']\n",
    "df_result = pd.DataFrame({'index' : df.dlg_id.unique()})\n",
    "\n",
    "for i,j in zip(dict_list, columns_name):\n",
    "    df_cur = dicts_to_df(i, j)\n",
    "    df_result = df_result.merge(df_cur, how='outer')\n",
    "\n",
    "df_result = df_result.rename({'index':'dlg_id'}, axis = 1)"
   ]
  },
  {
   "cell_type": "code",
   "execution_count": 41,
   "id": "e3edc06a",
   "metadata": {},
   "outputs": [
    {
     "name": "stderr",
     "output_type": "stream",
     "text": [
      "C:\\Users\\xaker_kuznechik\\AppData\\Local\\Temp\\ipykernel_4764\\2630670035.py:2: SettingWithCopyWarning: \n",
      "A value is trying to be set on a copy of a slice from a DataFrame\n",
      "\n",
      "See the caveats in the documentation: https://pandas.pydata.org/pandas-docs/stable/user_guide/indexing.html#returning-a-view-versus-a-copy\n",
      "  df_result['requirements'][(df_result['greeting'].isna()) | (df_result['farewell'].isna())] = False\n"
     ]
    }
   ],
   "source": [
    "df_result['requirements'] = True\n",
    "df_result['requirements'][(df_result['greeting'].isna()) | (df_result['farewell'].isna())] = False"
   ]
  },
  {
   "cell_type": "code",
   "execution_count": 42,
   "id": "b625fb9e",
   "metadata": {},
   "outputs": [
    {
     "data": {
      "text/html": [
       "<div>\n",
       "<style scoped>\n",
       "    .dataframe tbody tr th:only-of-type {\n",
       "        vertical-align: middle;\n",
       "    }\n",
       "\n",
       "    .dataframe tbody tr th {\n",
       "        vertical-align: top;\n",
       "    }\n",
       "\n",
       "    .dataframe thead th {\n",
       "        text-align: right;\n",
       "    }\n",
       "</style>\n",
       "<table border=\"1\" class=\"dataframe\">\n",
       "  <thead>\n",
       "    <tr style=\"text-align: right;\">\n",
       "      <th></th>\n",
       "      <th>dlg_id</th>\n",
       "      <th>manager_name</th>\n",
       "      <th>company_name</th>\n",
       "      <th>intro</th>\n",
       "      <th>greeting</th>\n",
       "      <th>farewell</th>\n",
       "      <th>requirements</th>\n",
       "    </tr>\n",
       "  </thead>\n",
       "  <tbody>\n",
       "    <tr>\n",
       "      <th>0</th>\n",
       "      <td>0</td>\n",
       "      <td>ангелина</td>\n",
       "      <td>компания диджитал</td>\n",
       "      <td>меня зовут ангелина</td>\n",
       "      <td>здравствуйте</td>\n",
       "      <td>до свидания</td>\n",
       "      <td>True</td>\n",
       "    </tr>\n",
       "    <tr>\n",
       "      <th>1</th>\n",
       "      <td>1</td>\n",
       "      <td>ангелина</td>\n",
       "      <td>компания диджитал</td>\n",
       "      <td>меня зовут ангелина</td>\n",
       "      <td>здравствуйте</td>\n",
       "      <td>до свидания</td>\n",
       "      <td>True</td>\n",
       "    </tr>\n",
       "    <tr>\n",
       "      <th>2</th>\n",
       "      <td>2</td>\n",
       "      <td>ангелина</td>\n",
       "      <td>компания диджитал</td>\n",
       "      <td>меня зовут ангелина</td>\n",
       "      <td>здравствуйте</td>\n",
       "      <td>NaN</td>\n",
       "      <td>False</td>\n",
       "    </tr>\n",
       "    <tr>\n",
       "      <th>3</th>\n",
       "      <td>3</td>\n",
       "      <td>максим</td>\n",
       "      <td>компания китобизнес</td>\n",
       "      <td>меня максим зовут</td>\n",
       "      <td>добрый день</td>\n",
       "      <td>всего доброго</td>\n",
       "      <td>True</td>\n",
       "    </tr>\n",
       "    <tr>\n",
       "      <th>4</th>\n",
       "      <td>4</td>\n",
       "      <td>NaN</td>\n",
       "      <td>NaN</td>\n",
       "      <td>NaN</td>\n",
       "      <td>NaN</td>\n",
       "      <td>до свидания</td>\n",
       "      <td>False</td>\n",
       "    </tr>\n",
       "    <tr>\n",
       "      <th>5</th>\n",
       "      <td>5</td>\n",
       "      <td>анастасия</td>\n",
       "      <td>NaN</td>\n",
       "      <td>это анастасия</td>\n",
       "      <td>NaN</td>\n",
       "      <td>до свидания</td>\n",
       "      <td>False</td>\n",
       "    </tr>\n",
       "  </tbody>\n",
       "</table>\n",
       "</div>"
      ],
      "text/plain": [
       "   dlg_id manager_name         company_name                intro  \\\n",
       "0       0     ангелина    компания диджитал  меня зовут ангелина   \n",
       "1       1     ангелина    компания диджитал  меня зовут ангелина   \n",
       "2       2     ангелина    компания диджитал  меня зовут ангелина   \n",
       "3       3       максим  компания китобизнес    меня максим зовут   \n",
       "4       4          NaN                  NaN                  NaN   \n",
       "5       5    анастасия                  NaN        это анастасия   \n",
       "\n",
       "       greeting       farewell  requirements  \n",
       "0  здравствуйте    до свидания          True  \n",
       "1  здравствуйте    до свидания          True  \n",
       "2  здравствуйте            NaN         False  \n",
       "3   добрый день  всего доброго          True  \n",
       "4           NaN    до свидания         False  \n",
       "5           NaN    до свидания         False  "
      ]
     },
     "execution_count": 42,
     "metadata": {},
     "output_type": "execute_result"
    }
   ],
   "source": [
    "df_result"
   ]
  }
 ],
 "metadata": {
  "kernelspec": {
   "display_name": "Python 3 (ipykernel)",
   "language": "python",
   "name": "python3"
  },
  "language_info": {
   "codemirror_mode": {
    "name": "ipython",
    "version": 3
   },
   "file_extension": ".py",
   "mimetype": "text/x-python",
   "name": "python",
   "nbconvert_exporter": "python",
   "pygments_lexer": "ipython3",
   "version": "3.10.4"
  }
 },
 "nbformat": 4,
 "nbformat_minor": 5
}
